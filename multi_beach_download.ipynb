{
 "cells": [
  {
   "cell_type": "markdown",
   "metadata": {},
   "source": [
    "# *CoastSat*: Multi Beach Downloader\n"
   ]
  },
  {
   "cell_type": "markdown",
   "metadata": {},
   "source": [
    "## Initial settings"
   ]
  },
  {
   "cell_type": "code",
   "execution_count": 1,
   "metadata": {
    "tags": []
   },
   "outputs": [],
   "source": [
    "%load_ext autoreload\n",
    "%autoreload 2\n",
    "import os\n",
    "import numpy as np\n",
    "import pickle\n",
    "import warnings\n",
    "warnings.filterwarnings(\"ignore\")\n",
    "import matplotlib\n",
    "matplotlib.use('Qt5Agg')\n",
    "import matplotlib.pyplot as plt\n",
    "from matplotlib import gridspec\n",
    "plt.ion()\n",
    "import pandas as pd\n",
    "from datetime import datetime\n",
    "from coastsat import SDS_download, SDS_preprocess, SDS_shoreline, SDS_tools, SDS_transects\n",
    "import ee\n",
    "ee.Initialize(project='ee-rafarencoretg')"
   ]
  },
  {
   "cell_type": "markdown",
   "metadata": {},
   "source": [
    "## 1. Retrieval of the images from GEE"
   ]
  },
  {
   "cell_type": "markdown",
   "metadata": {},
   "source": [
    "Se crea un diccionario con la información de las playas de la región a descargar."
   ]
  },
  {
   "cell_type": "code",
   "execution_count": 2,
   "metadata": {},
   "outputs": [],
   "source": [
    "country_info = {\n",
    "    \"country\": \"CHILE\",\n",
    "    \"country_code\": \"chi\",\n",
    "    \"region\": {\n",
    "        \"OHIGGINS\": {\n",
    "            \"chi0345\": {\n",
    "                \"name\": \"PLAYA_MATANZAS\",\n",
    "                \"slope\": 0.074\n",
    "            },\n",
    "            \"chi0356\": {\n",
    "                \"name\": \"PLAYA_PUNTA_DE_LOBOS\",\n",
    "                \"slope\": 0.075\n",
    "            }\n",
    "        }\n",
    "    }\n",
    "}"
   ]
  },
  {
   "cell_type": "markdown",
   "metadata": {},
   "source": [
    "Inicialización de los inputs del código, tales como fechas, región, códigos, pendientes y satélites. Se realiza un chequeo previo a la descarga."
   ]
  },
  {
   "cell_type": "code",
   "execution_count": 6,
   "metadata": {
    "tags": []
   },
   "outputs": [
    {
     "name": "stdout",
     "output_type": "stream",
     "text": [
      "\n",
      "IMÁGENES DISPONIBLES EN PLAYA MATANZAS\n",
      "Number of images available between 2024-11-01 and 2024-12-31:\n",
      "- In Landsat Tier 1 & Sentinel-2 Level-1C:\n",
      "     L8: 12 images\n",
      "     L9: 11 images\n",
      "     S2: 22 images\n",
      "  Total to download: 45 images\n",
      "- In Landsat Tier 2 (not suitable for time-series analysis):\n",
      "     L8: 8 images\n",
      "  Total Tier 2: 8 images\n",
      "\n",
      "IMÁGENES DISPONIBLES EN PLAYA PUNTA DE LOBOS\n",
      "Number of images available between 2024-11-01 and 2024-12-31:\n",
      "- In Landsat Tier 1 & Sentinel-2 Level-1C:\n",
      "     L8: 8 images\n",
      "     L9: 7 images\n",
      "     S2: 33 images\n",
      "  Total to download: 48 images\n",
      "L8: 8/8 images already exist, 0 to be downloaded\n",
      "L9: 7/7 images already exist, 0 to be downloaded\n",
      "S2: 33/33 images already exist, 0 to be downloaded\n",
      "- In Landsat Tier 2 (not suitable for time-series analysis):\n",
      "     L8: 4 images\n",
      "  Total Tier 2: 4 images\n"
     ]
    }
   ],
   "source": [
    "# Sitio de estudio y su codigo\n",
    "region_name = \"OHIGGINS\"\n",
    "geojson_folder = 'CoastSat_Web'\n",
    "\n",
    "# Rango de fechas\n",
    "dates = ['2024-11-01', '2024-12-31']\n",
    "\n",
    "# Satelites (misiones) ['L5','L7','L8','L9','S2']\n",
    "sat_list = ['L8','L9','S2']\n",
    "\n",
    "# Directorio de almacenamiento\n",
    "filepath = os.path.join(os.getcwd(), 'data')\n",
    "\n",
    "for beach in country_info[\"region\"][region_name]:\n",
    "    sitename = country_info[\"region\"][region_name][beach][\"name\"]\n",
    "    slope = country_info[\"region\"][region_name][beach][\"slope\"]\n",
    "\n",
    "    # Region de interes (longitud, latitud) en formato geojson\n",
    "    geojson_polygon = os.path.join(os.getcwd(), geojson_folder, region_name, beach, f\"{beach}_polygon.geojson\")\n",
    "    polygon = SDS_tools.polygon_from_geojson(geojson_polygon)\n",
    "\n",
    "    # Diccionario con la información del sitio de estudio\n",
    "    inputs = {'region': region_name, 'id': beach, 'sitename': sitename, 'slope': slope, \n",
    "              'polygon': polygon, 'dates': dates, 'sat_list': sat_list, 'filepath':filepath}\n",
    "\n",
    "    # Chequeo de cantidad de imagenes disponibles\n",
    "    print(f'\\nIMAGENES DISPONIBLES EN {sitename}')\n",
    "    SDS_download.check_images_available(inputs);"
   ]
  },
  {
   "cell_type": "markdown",
   "metadata": {},
   "source": [
    "Luego del chequeo, se descargan las imágenes."
   ]
  },
  {
   "cell_type": "code",
   "execution_count": 10,
   "metadata": {
    "tags": []
   },
   "outputs": [
    {
     "name": "stdout",
     "output_type": "stream",
     "text": [
      "\n",
      "DESCARGANDO IMAGENES EN PLAYA MATANZAS\n",
      "GEE initialized (existing token).\n",
      "Number of images available between 2024-11-01 and 2024-12-31:\n",
      "- In Landsat Tier 1 & Sentinel-2 Level-1C:\n",
      "     L8: 12 images\n",
      "     L9: 11 images\n",
      "     S2: 22 images\n",
      "  Total to download: 45 images\n",
      "L8: 12/12 images already exist, 0 to be downloaded\n",
      "L9: 11/11 images already exist, 0 to be downloaded\n",
      "S2: 22/22 images already exist, 0 to be downloaded\n",
      "- In Landsat Tier 2 (not suitable for time-series analysis):\n",
      "     L8: 8 images\n",
      "  Total Tier 2: 8 images\n",
      "\n",
      "Downloading images:\n",
      "L8: 0 images\n",
      "\n",
      "L9: 0 images\n",
      "\n",
      "S2: 0 images\n",
      "\n",
      "Satellite images downloaded from GEE and save in c:\\Users\\pedro\\Documents\\RAFA\\CoastSat-RRG\\data\\PLAYA MATANZAS\n",
      "\n",
      "DESCARGANDO IMAGENES EN PLAYA PUNTA DE LOBOS\n",
      "GEE initialized (existing token).\n",
      "Number of images available between 2024-11-01 and 2024-12-31:\n",
      "- In Landsat Tier 1 & Sentinel-2 Level-1C:\n",
      "     L8: 8 images\n",
      "     L9: 7 images\n",
      "     S2: 33 images\n",
      "  Total to download: 48 images\n",
      "L8: 8/8 images already exist, 0 to be downloaded\n",
      "L9: 7/7 images already exist, 0 to be downloaded\n",
      "S2: 33/33 images already exist, 0 to be downloaded\n",
      "- In Landsat Tier 2 (not suitable for time-series analysis):\n",
      "     L8: 4 images\n",
      "  Total Tier 2: 4 images\n",
      "\n",
      "Downloading images:\n",
      "L8: 0 images\n",
      "\n",
      "L9: 0 images\n",
      "\n",
      "S2: 0 images\n",
      "\n",
      "Satellite images downloaded from GEE and save in c:\\Users\\pedro\\Documents\\RAFA\\CoastSat-RRG\\data\\PLAYA PUNTA DE LOBOS\n"
     ]
    }
   ],
   "source": [
    "for beach in country_info[\"region\"][region_name]:\n",
    "    sitename = country_info[\"region\"][region_name][beach][\"name\"]\n",
    "    slope = country_info[\"region\"][region_name][beach][\"slope\"]\n",
    "\n",
    "    # Region de interes (longitud, latitud) en formato geojson\n",
    "    geojson_polygon = os.path.join(os.getcwd(), geojson_folder, region_name, beach, f\"{beach}_polygon.geojson\")\n",
    "    polygon = SDS_tools.polygon_from_geojson(geojson_polygon)\n",
    "\n",
    "    # Diccionario con la información del sitio de estudio\n",
    "    inputs = {'region': region_name, 'id': beach, 'sitename': sitename, 'slope': slope, \n",
    "              'polygon': polygon, 'dates': dates, 'sat_list': sat_list, 'filepath':filepath}\n",
    "\n",
    "    # Descarga de imagenes\n",
    "    print(f\"\\nDESCARGANDO IMAGENES EN {sitename}\")\n",
    "    metadata = SDS_download.retrieve_images(inputs)"
   ]
  },
  {
   "cell_type": "markdown",
   "metadata": {},
   "source": [
    "Finalmente, se construye la metadata de los sitios de estudio."
   ]
  },
  {
   "cell_type": "code",
   "execution_count": 11,
   "metadata": {
    "tags": []
   },
   "outputs": [
    {
     "name": "stdout",
     "output_type": "stream",
     "text": [
      "\n",
      "GRABADO DE METADATA DE PLAYA MATANZAS COMPLETADA\n",
      "\n",
      "GRABADO DE METADATA DE PLAYA PUNTA DE LOBOS COMPLETADA\n"
     ]
    }
   ],
   "source": [
    "for beach in country_info[\"region\"][region_name]:\n",
    "    sitename = country_info[\"region\"][region_name][beach][\"name\"]\n",
    "    slope = country_info[\"region\"][region_name][beach][\"slope\"]\n",
    "\n",
    "    # Region de interes (longitud, latitud) en formato geojson\n",
    "    geojson_polygon = os.path.join(os.getcwd(), geojson_folder, region_name, beach, f\"{beach}_polygon.geojson\")\n",
    "    polygon = SDS_tools.polygon_from_geojson(geojson_polygon)\n",
    "\n",
    "    # Diccionario con la información del sitio de estudio\n",
    "    inputs = {'region': region_name, 'id': beach, 'sitename': sitename, 'slope': slope, \n",
    "              'polygon': polygon, 'dates': dates, 'sat_list': sat_list, 'filepath':filepath}\n",
    "    \n",
    "    # Grabado de metadata\n",
    "    print(f'\\nGRABADO DE METADATA DE {sitename} COMPLETADA')\n",
    "    metadata = SDS_download.get_metadata(inputs)"
   ]
  }
 ],
 "metadata": {
  "kernelspec": {
   "display_name": "coastsat",
   "language": "python",
   "name": "python3"
  },
  "language_info": {
   "codemirror_mode": {
    "name": "ipython",
    "version": 3
   },
   "file_extension": ".py",
   "mimetype": "text/x-python",
   "name": "python",
   "nbconvert_exporter": "python",
   "pygments_lexer": "ipython3",
   "version": "3.11.11"
  },
  "toc": {
   "base_numbering": 1,
   "nav_menu": {},
   "number_sections": true,
   "sideBar": true,
   "skip_h1_title": false,
   "title_cell": "Table of Contents",
   "title_sidebar": "Contents",
   "toc_cell": false,
   "toc_position": {},
   "toc_section_display": true,
   "toc_window_display": false
  },
  "varInspector": {
   "cols": {
    "lenName": 16,
    "lenType": 16,
    "lenVar": 40
   },
   "kernels_config": {
    "python": {
     "delete_cmd_postfix": "",
     "delete_cmd_prefix": "del ",
     "library": "var_list.py",
     "varRefreshCmd": "print(var_dic_list())"
    },
    "r": {
     "delete_cmd_postfix": ") ",
     "delete_cmd_prefix": "rm(",
     "library": "var_list.r",
     "varRefreshCmd": "cat(var_dic_list()) "
    }
   },
   "types_to_exclude": [
    "module",
    "function",
    "builtin_function_or_method",
    "instance",
    "_Feature"
   ],
   "window_display": false
  }
 },
 "nbformat": 4,
 "nbformat_minor": 4
}
