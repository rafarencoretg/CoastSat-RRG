{
 "cells": [
  {
   "cell_type": "markdown",
   "metadata": {},
   "source": [
    "# *CoastSat*: Multi-beach download"
   ]
  },
  {
   "cell_type": "markdown",
   "metadata": {
    "jp-MarkdownHeadingCollapsed": true
   },
   "source": [
    "## Initial settings"
   ]
  },
  {
   "cell_type": "code",
   "execution_count": 1,
   "metadata": {
    "tags": []
   },
   "outputs": [],
   "source": [
    "%load_ext autoreload\n",
    "%autoreload 2\n",
    "import os\n",
    "import numpy as np\n",
    "import pickle\n",
    "import warnings\n",
    "warnings.filterwarnings(\"ignore\")\n",
    "import matplotlib\n",
    "matplotlib.use('Qt5Agg')\n",
    "import matplotlib.pyplot as plt\n",
    "from matplotlib import gridspec\n",
    "plt.ion()\n",
    "import pandas as pd\n",
    "from datetime import datetime\n",
    "import pytz\n",
    "from coastsat import SDS_download, SDS_preprocess, SDS_shoreline, SDS_tools, SDS_transects\n"
   ]
  },
  {
   "cell_type": "markdown",
   "metadata": {
    "jp-MarkdownHeadingCollapsed": true
   },
   "source": [
    "## Retrieval of the images from GEE"
   ]
  },
  {
   "cell_type": "code",
   "execution_count": 35,
   "metadata": {
    "tags": []
   },
   "outputs": [
    {
     "name": "stdout",
     "output_type": "stream",
     "text": [
      "Number of images available between 2024-09-01 and 2024-10-01:\n",
      "- In Landsat Tier 1 & Sentinel-2 Level-1C:\n",
      "     L8: 4 images\n",
      "     L9: 2 images\n",
      "     S2: 21 images\n",
      "  Total to download: 27 images\n",
      "- In Landsat Tier 2 (not suitable for time-series analysis):\n",
      "     L8: 2 images\n",
      "  Total Tier 2: 2 images\n"
     ]
    }
   ],
   "source": [
    "# region of interest (longitude, latitude)\n",
    "geojson_polygon = os.path.join(os.getcwd(), 'GIS', 'playa_punta_de_lobos.geojson')\n",
    "polygon = SDS_tools.polygon_from_geojson(geojson_polygon)\n",
    "\n",
    "# or load from .kml\n",
    "# kml_polygon = os.path.join(os.getcwd(), 'GIS', 'playa_punta_de_lobos.geojson')\n",
    "# polygon = SDS_tools.polygon_from_kml(kml_polygon)\n",
    "# date range\n",
    "dates = ['1985-01-01', '2024-12-31']\n",
    "# satellite missions ['L5','L7','L8','L9','S2']\n",
    "sat_list = ['L5', 'L7', 'L8','L9','S2']\n",
    "# name of the site\n",
    "sitename = 'PLAYA_PUNTA_DE_LOBOS'\n",
    "# directory where the data will be stored\n",
    "filepath = os.path.join(os.getcwd(), 'data')\n",
    "# put all the inputs into a dictionnary\n",
    "inputs = {'polygon': polygon, 'dates': dates, 'sat_list': sat_list,\n",
    "          'sitename': sitename, 'filepath':filepath}\n",
    "# optionally, you can select your Sentinel-2 or Landsat tile to avoid duplicates from multiple tiles\n",
    "# inputs['S2tile'] = '56HLH'\n",
    "# inputs['LandsatWRS'] = '089083'\n",
    "# before downloading the images, check how many images are available for your inputs\n",
    "SDS_download.check_images_available(inputs);"
   ]
  },
  {
   "cell_type": "code",
   "execution_count": 36,
   "metadata": {},
   "outputs": [],
   "source": [
    "# option to skip L7 images affected by the Scan-Line-Correction error after 31st May 2003\n",
    "# inputs['skip_L7_SLC'] = True\n",
    "# option to include Tier 2 images (ONLY IF NO OTHER IMAGES ARE AVAILABLE)\n",
    "# inputs['include_T2'] = True"
   ]
  },
  {
   "cell_type": "code",
   "execution_count": 37,
   "metadata": {
    "tags": []
   },
   "outputs": [
    {
     "name": "stdout",
     "output_type": "stream",
     "text": [
      "GEE initialized (existing token).\n",
      "Number of images available between 2024-09-01 and 2024-10-01:\n",
      "- In Landsat Tier 1 & Sentinel-2 Level-1C:\n",
      "     L8: 4 images\n",
      "     L9: 2 images\n",
      "     S2: 21 images\n",
      "  Total to download: 27 images\n",
      "- In Landsat Tier 2 (not suitable for time-series analysis):\n",
      "     L8: 2 images\n",
      "  Total Tier 2: 2 images\n",
      "\n",
      "Downloading images:\n",
      "L8: 4 images\n",
      "100%\n",
      "L9: 2 images\n",
      "100%\n",
      "S2: 21 images\n",
      "100%\n",
      "Satellite images downloaded from GEE and save in c:\\Users\\pedro\\OneDrive\\Escritorio\\RAFA\\CoastSat-RRG\\data\\PLAYA_PUNTA_DE_LOBOS\n"
     ]
    }
   ],
   "source": [
    "metadata = SDS_download.retrieve_images(inputs)"
   ]
  },
  {
   "cell_type": "markdown",
   "metadata": {},
   "source": [
    "**If you have already retrieved the images**, just load the metadata file by only running the section below"
   ]
  },
  {
   "cell_type": "code",
   "execution_count": 38,
   "metadata": {
    "tags": []
   },
   "outputs": [],
   "source": [
    "metadata = SDS_download.get_metadata(inputs)"
   ]
  }
 ],
 "metadata": {
  "kernelspec": {
   "display_name": "coastsat",
   "language": "python",
   "name": "python3"
  },
  "language_info": {
   "codemirror_mode": {
    "name": "ipython",
    "version": 3
   },
   "file_extension": ".py",
   "mimetype": "text/x-python",
   "name": "python",
   "nbconvert_exporter": "python",
   "pygments_lexer": "ipython3",
   "version": "3.11.11"
  },
  "toc": {
   "base_numbering": 1,
   "nav_menu": {},
   "number_sections": true,
   "sideBar": true,
   "skip_h1_title": false,
   "title_cell": "Table of Contents",
   "title_sidebar": "Contents",
   "toc_cell": false,
   "toc_position": {},
   "toc_section_display": true,
   "toc_window_display": false
  },
  "varInspector": {
   "cols": {
    "lenName": 16,
    "lenType": 16,
    "lenVar": 40
   },
   "kernels_config": {
    "python": {
     "delete_cmd_postfix": "",
     "delete_cmd_prefix": "del ",
     "library": "var_list.py",
     "varRefreshCmd": "print(var_dic_list())"
    },
    "r": {
     "delete_cmd_postfix": ") ",
     "delete_cmd_prefix": "rm(",
     "library": "var_list.r",
     "varRefreshCmd": "cat(var_dic_list()) "
    }
   },
   "types_to_exclude": [
    "module",
    "function",
    "builtin_function_or_method",
    "instance",
    "_Feature"
   ],
   "window_display": false
  }
 },
 "nbformat": 4,
 "nbformat_minor": 4
}
