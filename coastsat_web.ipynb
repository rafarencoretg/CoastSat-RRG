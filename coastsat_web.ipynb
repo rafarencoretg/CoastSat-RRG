{
 "cells": [
  {
   "cell_type": "markdown",
   "metadata": {},
   "source": [
    "# CoastSat Web: Extracción de información"
   ]
  },
  {
   "cell_type": "markdown",
   "metadata": {},
   "source": [
    "## Initial Settings"
   ]
  },
  {
   "cell_type": "markdown",
   "metadata": {},
   "source": [
    "Se realizan todos los imports necesarios para analizar la información de la página web de CoastSat"
   ]
  },
  {
   "cell_type": "code",
   "execution_count": 6,
   "metadata": {},
   "outputs": [],
   "source": [
    "import os\n",
    "import geopandas as gpd\n",
    "import pandas as pd"
   ]
  },
  {
   "cell_type": "markdown",
   "metadata": {},
   "source": [
    "Diccionario con toda la información del país, de sus regiones y de las playas de cada región. `region_name` es la región que se analizará y la carpeta CoastSat Web almacenará la información"
   ]
  },
  {
   "cell_type": "code",
   "execution_count": 7,
   "metadata": {},
   "outputs": [],
   "source": [
    "country_info = {\n",
    "    \"country\": \"CHILE\",\n",
    "    \"country_code\": \"chi\",\n",
    "    \"region\": {\n",
    "        \"OHIGGINS\": {\n",
    "            \"start_code\": \"0345\",\n",
    "            \"end_code\": \"0362\"\n",
    "        }\n",
    "    }\n",
    "}\n",
    "\n",
    "region_name = \"OHIGGINS\"  # Región a procesar\n",
    "geojson_folder = 'CoastSat_Web'  # Carpeta con los .geojson\n"
   ]
  },
  {
   "cell_type": "markdown",
   "metadata": {},
   "source": [
    "## Visualización de la Información"
   ]
  },
  {
   "cell_type": "markdown",
   "metadata": {},
   "source": [
    "Para una lectura amigable, se convierten los archivos `.geojson` en archivos de excel"
   ]
  },
  {
   "cell_type": "code",
   "execution_count": 8,
   "metadata": {},
   "outputs": [],
   "source": [
    "def convert_geojson_to_excel(geojson_folder):\n",
    "    \"\"\"\n",
    "    Convierte todos los archivos .geojson de una carpeta a formato .xlsx y los guarda en otra carpeta.\n",
    "\n",
    "    :param geojson_folder: Ruta de la carpeta que contiene los archivos .geojson.\n",
    "    \"\"\"\n",
    "\n",
    "    # Iterar sobre todos los archivos en la carpeta de entrada\n",
    "    for file_name in os.listdir(geojson_folder):\n",
    "        if file_name.endswith('.geojson'):\n",
    "            # Ruta completa del archivo de entrada\n",
    "            file_path = os.path.join(geojson_folder, file_name)\n",
    "\n",
    "            # Cargar el archivo .geojson\n",
    "            data = gpd.read_file(file_path)\n",
    "\n",
    "            # Convertir geometría a formato WKT\n",
    "            data['geometry'] = data['geometry'].apply(lambda x: x.wkt)\n",
    "\n",
    "            # Ruta completa del archivo de salida\n",
    "            output_path = os.path.join(geojson_folder, file_name.replace('.geojson', '.xlsx'))\n",
    "\n",
    "            # Guardar en formato Excel\n",
    "            data.to_excel(output_path, index=False)\n",
    "            print(f\"Archivo convertido y guardado en: {output_path}\")\n",
    "\n",
    "    print(\"Todos los archivos .geojson han sido procesados.\")"
   ]
  },
  {
   "cell_type": "markdown",
   "metadata": {},
   "source": [
    "Se convierten los archivos descargados .geoson a un formato amigable para lectura, excel."
   ]
  },
  {
   "cell_type": "code",
   "execution_count": 9,
   "metadata": {},
   "outputs": [
    {
     "name": "stderr",
     "output_type": "stream",
     "text": [
      "C:\\Users\\pedro\\AppData\\Local\\Temp\\ipykernel_14472\\4100923213.py:18: UserWarning: Geometry column does not contain geometry.\n",
      "  data['geometry'] = data['geometry'].apply(lambda x: x.wkt)\n"
     ]
    },
    {
     "name": "stdout",
     "output_type": "stream",
     "text": [
      "Archivo convertido y guardado en: CoastSat_Web\\CoastSat_polygon_layer.xlsx\n"
     ]
    },
    {
     "name": "stderr",
     "output_type": "stream",
     "text": [
      "C:\\Users\\pedro\\AppData\\Local\\Temp\\ipykernel_14472\\4100923213.py:18: UserWarning: Geometry column does not contain geometry.\n",
      "  data['geometry'] = data['geometry'].apply(lambda x: x.wkt)\n"
     ]
    },
    {
     "name": "stdout",
     "output_type": "stream",
     "text": [
      "Archivo convertido y guardado en: CoastSat_Web\\CoastSat_transect_layer.xlsx\n",
      "Todos los archivos .geojson han sido procesados.\n"
     ]
    }
   ],
   "source": [
    "convert_geojson_to_excel(geojson_folder)"
   ]
  },
  {
   "cell_type": "markdown",
   "metadata": {},
   "source": [
    "## Extracción de la Región"
   ]
  },
  {
   "cell_type": "markdown",
   "metadata": {},
   "source": [
    "Luego, el código se centra en una región en específico, definida anteriormente. Se genera un archivo `.xlsx` con la información de los polígonos y los transectos de la región. Además, se crea una carpeta para almacenar esto"
   ]
  },
  {
   "cell_type": "code",
   "execution_count": 10,
   "metadata": {},
   "outputs": [],
   "source": [
    "def extract_region(geojson_file, country_info, region_name, excel_file):\n",
    "    \"\"\"\n",
    "    Extrae las filas correspondientes a una región de un país en base a un diccionario\n",
    "    y guarda el resultado en un archivo Excel.\n",
    "\n",
    "    :param geojson_file: Ruta al archivo .geojson.\n",
    "    :param country_info: Diccionario con la información del país y las regiones.\n",
    "    :param region_name: Nombre de la región a filtrar (clave en el diccionario).\n",
    "    :param excel_file: Ruta para guardar el archivo Excel filtrado.\n",
    "    \"\"\"\n",
    "    # Obtener información del país y región\n",
    "    country_code = country_info[\"country_code\"]\n",
    "    region_info = country_info[\"region\"][region_name]\n",
    "    start_code = int(region_info[\"start_code\"])\n",
    "    end_code = int(region_info[\"end_code\"])\n",
    "\n",
    "    # Cargar el archivo GeoJSON\n",
    "    data = gpd.read_file(geojson_file)\n",
    "\n",
    "\n",
    "\n",
    "    # Filtrar las filas por el país y el rango de códigos\n",
    "    filtered_data = data[data['SiteId'].str.startswith(country_code) & \n",
    "                         data['SiteId'].str[-4:].astype(int).between(start_code, end_code)]\n",
    "\n",
    "    # Convertir geometría a formato WKT para exportar a Excel\n",
    "    filtered_data['geometry'] = filtered_data['geometry'].apply(lambda x: x.wkt)\n",
    "\n",
    "    # Guardar el resultado en un archivo Excel\n",
    "    filtered_data.to_excel(excel_file, index=False)\n",
    "    print(f\"Datos filtrados de {region_name} guardados en: {excel_file}\")"
   ]
  },
  {
   "cell_type": "code",
   "execution_count": 11,
   "metadata": {},
   "outputs": [
    {
     "name": "stderr",
     "output_type": "stream",
     "text": [
      "C:\\Users\\pedro\\AppData\\Local\\Temp\\ipykernel_14472\\2601581388.py:27: UserWarning: Geometry column does not contain geometry.\n",
      "  filtered_data['geometry'] = filtered_data['geometry'].apply(lambda x: x.wkt)\n",
      "c:\\Users\\pedro\\miniforge3\\envs\\coastsat\\Lib\\site-packages\\geopandas\\geodataframe.py:1819: SettingWithCopyWarning: \n",
      "A value is trying to be set on a copy of a slice from a DataFrame.\n",
      "Try using .loc[row_indexer,col_indexer] = value instead\n",
      "\n",
      "See the caveats in the documentation: https://pandas.pydata.org/pandas-docs/stable/user_guide/indexing.html#returning-a-view-versus-a-copy\n",
      "  super().__setitem__(key, value)\n"
     ]
    },
    {
     "name": "stdout",
     "output_type": "stream",
     "text": [
      "Datos filtrados de OHIGGINS guardados en: c:\\Users\\pedro\\Documents\\RAFA\\CoastSat-RRG\\CoastSat_Web\\OHIGGINS\\OHIGGINS_polygons.xlsx\n",
      "Datos filtrados de OHIGGINS guardados en: c:\\Users\\pedro\\Documents\\RAFA\\CoastSat-RRG\\CoastSat_Web\\OHIGGINS\\OHIGGINS_transects.xlsx\n"
     ]
    },
    {
     "name": "stderr",
     "output_type": "stream",
     "text": [
      "C:\\Users\\pedro\\AppData\\Local\\Temp\\ipykernel_14472\\2601581388.py:27: UserWarning: Geometry column does not contain geometry.\n",
      "  filtered_data['geometry'] = filtered_data['geometry'].apply(lambda x: x.wkt)\n",
      "c:\\Users\\pedro\\miniforge3\\envs\\coastsat\\Lib\\site-packages\\geopandas\\geodataframe.py:1819: SettingWithCopyWarning: \n",
      "A value is trying to be set on a copy of a slice from a DataFrame.\n",
      "Try using .loc[row_indexer,col_indexer] = value instead\n",
      "\n",
      "See the caveats in the documentation: https://pandas.pydata.org/pandas-docs/stable/user_guide/indexing.html#returning-a-view-versus-a-copy\n",
      "  super().__setitem__(key, value)\n"
     ]
    }
   ],
   "source": [
    "os.makedirs(os.path.join(os.getcwd(), geojson_folder, region_name), exist_ok=True)\n",
    "region_folder = os.path.join(os.getcwd(), geojson_folder, region_name)\n",
    "\n",
    "polygon_file = os.path.join(os.getcwd(), geojson_folder, 'CoastSat_polygon_layer.geojson')\n",
    "transects_file = os.path.join(os.getcwd(), geojson_folder, 'CoastSat_transect_layer.geojson')\n",
    "\n",
    "polygon_excel_file = os.path.join(os.getcwd(), region_folder, 'OHIGGINS_polygons.xlsx')\n",
    "transects_excel_file = os.path.join(os.getcwd(), region_folder, 'OHIGGINS_transects.xlsx')\n",
    "\n",
    "extract_region(polygon_file, country_info, region_name, polygon_excel_file)\n",
    "extract_region(transects_file, country_info, region_name, transects_excel_file)\n"
   ]
  },
  {
   "cell_type": "markdown",
   "metadata": {},
   "source": [
    "## Extracción de Polígonos"
   ]
  },
  {
   "cell_type": "markdown",
   "metadata": {},
   "source": [
    "Luego, se transforma la información del excel en archivos individuales `.geojson` por playa que contienen los polígonos, que se almacenarán en la misma carpeta de la región"
   ]
  },
  {
   "cell_type": "code",
   "execution_count": 12,
   "metadata": {},
   "outputs": [],
   "source": [
    "def save_beach_as_geojson(region_excel_file):\n",
    "    \"\"\"\n",
    "    Lee un archivo Excel de playas y guarda cada playa como un archivo .geojson individual,\n",
    "    creando una subcarpeta para cada SiteId dentro de la carpeta de la región.\n",
    "\n",
    "    :param region_excel_file: Ruta del archivo Excel que contiene las playas.\n",
    "    \"\"\"\n",
    "\n",
    "    # Cargar el archivo Excel\n",
    "    data = pd.read_excel(region_excel_file)\n",
    "\n",
    "    # Crear la carpeta de salida si no existe\n",
    "    os.makedirs(os.path.join(os.getcwd(), geojson_folder, region_name), exist_ok=True)\n",
    "    region_folder = os.path.join(os.getcwd(), geojson_folder, region_name)\n",
    "\n",
    "    # Convertir el DataFrame a un GeoDataFrame\n",
    "    gdf = gpd.GeoDataFrame(data, geometry=gpd.GeoSeries.from_wkt(data['geometry']))\n",
    "\n",
    "    # Procesar cada fila (playa)\n",
    "    for index, row in gdf.iterrows():\n",
    "        site_id = row['SiteId']\n",
    "        geometry = row['geometry']\n",
    "\n",
    "        # Crear un GeoDataFrame con una sola fila\n",
    "        playa_gdf = gpd.GeoDataFrame([row], geometry=[geometry])\n",
    "\n",
    "        # Crear la carpeta para el SiteId si no existe\n",
    "        site_folder = os.path.join(region_folder, site_id)\n",
    "        os.makedirs(site_folder, exist_ok=True)\n",
    "\n",
    "        # Ruta completa del archivo .geojson\n",
    "        output_file = os.path.join(site_folder, f\"{site_id}_polygon.geojson\")\n",
    "\n",
    "        # Guardar el archivo .geojson\n",
    "        playa_gdf.to_file(output_file, driver=\"GeoJSON\")\n",
    "        print(f\"Archivo .geojson guardado para {site_id}: {output_file}\")\n",
    "\n",
    "    print(f\"Todos los archivos .geojson han sido guardados en subcarpetas dentro de: {region_folder}\")\n"
   ]
  },
  {
   "cell_type": "code",
   "execution_count": 13,
   "metadata": {},
   "outputs": [
    {
     "name": "stdout",
     "output_type": "stream",
     "text": [
      "Archivo .geojson guardado para chi0345: c:\\Users\\pedro\\Documents\\RAFA\\CoastSat-RRG\\CoastSat_Web\\OHIGGINS\\chi0345\\chi0345_polygon.geojson\n",
      "Archivo .geojson guardado para chi0346: c:\\Users\\pedro\\Documents\\RAFA\\CoastSat-RRG\\CoastSat_Web\\OHIGGINS\\chi0346\\chi0346_polygon.geojson\n",
      "Archivo .geojson guardado para chi0347: c:\\Users\\pedro\\Documents\\RAFA\\CoastSat-RRG\\CoastSat_Web\\OHIGGINS\\chi0347\\chi0347_polygon.geojson\n",
      "Archivo .geojson guardado para chi0348: c:\\Users\\pedro\\Documents\\RAFA\\CoastSat-RRG\\CoastSat_Web\\OHIGGINS\\chi0348\\chi0348_polygon.geojson\n",
      "Archivo .geojson guardado para chi0349: c:\\Users\\pedro\\Documents\\RAFA\\CoastSat-RRG\\CoastSat_Web\\OHIGGINS\\chi0349\\chi0349_polygon.geojson\n",
      "Archivo .geojson guardado para chi0350: c:\\Users\\pedro\\Documents\\RAFA\\CoastSat-RRG\\CoastSat_Web\\OHIGGINS\\chi0350\\chi0350_polygon.geojson\n",
      "Archivo .geojson guardado para chi0351: c:\\Users\\pedro\\Documents\\RAFA\\CoastSat-RRG\\CoastSat_Web\\OHIGGINS\\chi0351\\chi0351_polygon.geojson\n",
      "Archivo .geojson guardado para chi0352: c:\\Users\\pedro\\Documents\\RAFA\\CoastSat-RRG\\CoastSat_Web\\OHIGGINS\\chi0352\\chi0352_polygon.geojson\n",
      "Archivo .geojson guardado para chi0353: c:\\Users\\pedro\\Documents\\RAFA\\CoastSat-RRG\\CoastSat_Web\\OHIGGINS\\chi0353\\chi0353_polygon.geojson\n",
      "Archivo .geojson guardado para chi0354: c:\\Users\\pedro\\Documents\\RAFA\\CoastSat-RRG\\CoastSat_Web\\OHIGGINS\\chi0354\\chi0354_polygon.geojson\n",
      "Archivo .geojson guardado para chi0355: c:\\Users\\pedro\\Documents\\RAFA\\CoastSat-RRG\\CoastSat_Web\\OHIGGINS\\chi0355\\chi0355_polygon.geojson\n",
      "Archivo .geojson guardado para chi0356: c:\\Users\\pedro\\Documents\\RAFA\\CoastSat-RRG\\CoastSat_Web\\OHIGGINS\\chi0356\\chi0356_polygon.geojson\n",
      "Archivo .geojson guardado para chi0357: c:\\Users\\pedro\\Documents\\RAFA\\CoastSat-RRG\\CoastSat_Web\\OHIGGINS\\chi0357\\chi0357_polygon.geojson\n",
      "Archivo .geojson guardado para chi0358: c:\\Users\\pedro\\Documents\\RAFA\\CoastSat-RRG\\CoastSat_Web\\OHIGGINS\\chi0358\\chi0358_polygon.geojson\n",
      "Archivo .geojson guardado para chi0359: c:\\Users\\pedro\\Documents\\RAFA\\CoastSat-RRG\\CoastSat_Web\\OHIGGINS\\chi0359\\chi0359_polygon.geojson\n",
      "Archivo .geojson guardado para chi0360: c:\\Users\\pedro\\Documents\\RAFA\\CoastSat-RRG\\CoastSat_Web\\OHIGGINS\\chi0360\\chi0360_polygon.geojson\n",
      "Archivo .geojson guardado para chi0361: c:\\Users\\pedro\\Documents\\RAFA\\CoastSat-RRG\\CoastSat_Web\\OHIGGINS\\chi0361\\chi0361_polygon.geojson\n",
      "Archivo .geojson guardado para chi0362: c:\\Users\\pedro\\Documents\\RAFA\\CoastSat-RRG\\CoastSat_Web\\OHIGGINS\\chi0362\\chi0362_polygon.geojson\n",
      "Todos los archivos .geojson han sido guardados en subcarpetas dentro de: c:\\Users\\pedro\\Documents\\RAFA\\CoastSat-RRG\\CoastSat_Web\\OHIGGINS\n"
     ]
    },
    {
     "name": "stderr",
     "output_type": "stream",
     "text": [
      "c:\\Users\\pedro\\miniforge3\\envs\\coastsat\\Lib\\site-packages\\pyogrio\\geopandas.py:662: UserWarning: 'crs' was not provided.  The output dataset will not have projection information defined and may not be usable in other systems.\n",
      "  write(\n",
      "c:\\Users\\pedro\\miniforge3\\envs\\coastsat\\Lib\\site-packages\\pyogrio\\geopandas.py:662: UserWarning: 'crs' was not provided.  The output dataset will not have projection information defined and may not be usable in other systems.\n",
      "  write(\n",
      "c:\\Users\\pedro\\miniforge3\\envs\\coastsat\\Lib\\site-packages\\pyogrio\\geopandas.py:662: UserWarning: 'crs' was not provided.  The output dataset will not have projection information defined and may not be usable in other systems.\n",
      "  write(\n",
      "c:\\Users\\pedro\\miniforge3\\envs\\coastsat\\Lib\\site-packages\\pyogrio\\geopandas.py:662: UserWarning: 'crs' was not provided.  The output dataset will not have projection information defined and may not be usable in other systems.\n",
      "  write(\n",
      "c:\\Users\\pedro\\miniforge3\\envs\\coastsat\\Lib\\site-packages\\pyogrio\\geopandas.py:662: UserWarning: 'crs' was not provided.  The output dataset will not have projection information defined and may not be usable in other systems.\n",
      "  write(\n",
      "c:\\Users\\pedro\\miniforge3\\envs\\coastsat\\Lib\\site-packages\\pyogrio\\geopandas.py:662: UserWarning: 'crs' was not provided.  The output dataset will not have projection information defined and may not be usable in other systems.\n",
      "  write(\n",
      "c:\\Users\\pedro\\miniforge3\\envs\\coastsat\\Lib\\site-packages\\pyogrio\\geopandas.py:662: UserWarning: 'crs' was not provided.  The output dataset will not have projection information defined and may not be usable in other systems.\n",
      "  write(\n",
      "c:\\Users\\pedro\\miniforge3\\envs\\coastsat\\Lib\\site-packages\\pyogrio\\geopandas.py:662: UserWarning: 'crs' was not provided.  The output dataset will not have projection information defined and may not be usable in other systems.\n",
      "  write(\n",
      "c:\\Users\\pedro\\miniforge3\\envs\\coastsat\\Lib\\site-packages\\pyogrio\\geopandas.py:662: UserWarning: 'crs' was not provided.  The output dataset will not have projection information defined and may not be usable in other systems.\n",
      "  write(\n",
      "c:\\Users\\pedro\\miniforge3\\envs\\coastsat\\Lib\\site-packages\\pyogrio\\geopandas.py:662: UserWarning: 'crs' was not provided.  The output dataset will not have projection information defined and may not be usable in other systems.\n",
      "  write(\n",
      "c:\\Users\\pedro\\miniforge3\\envs\\coastsat\\Lib\\site-packages\\pyogrio\\geopandas.py:662: UserWarning: 'crs' was not provided.  The output dataset will not have projection information defined and may not be usable in other systems.\n",
      "  write(\n",
      "c:\\Users\\pedro\\miniforge3\\envs\\coastsat\\Lib\\site-packages\\pyogrio\\geopandas.py:662: UserWarning: 'crs' was not provided.  The output dataset will not have projection information defined and may not be usable in other systems.\n",
      "  write(\n",
      "c:\\Users\\pedro\\miniforge3\\envs\\coastsat\\Lib\\site-packages\\pyogrio\\geopandas.py:662: UserWarning: 'crs' was not provided.  The output dataset will not have projection information defined and may not be usable in other systems.\n",
      "  write(\n",
      "c:\\Users\\pedro\\miniforge3\\envs\\coastsat\\Lib\\site-packages\\pyogrio\\geopandas.py:662: UserWarning: 'crs' was not provided.  The output dataset will not have projection information defined and may not be usable in other systems.\n",
      "  write(\n",
      "c:\\Users\\pedro\\miniforge3\\envs\\coastsat\\Lib\\site-packages\\pyogrio\\geopandas.py:662: UserWarning: 'crs' was not provided.  The output dataset will not have projection information defined and may not be usable in other systems.\n",
      "  write(\n",
      "c:\\Users\\pedro\\miniforge3\\envs\\coastsat\\Lib\\site-packages\\pyogrio\\geopandas.py:662: UserWarning: 'crs' was not provided.  The output dataset will not have projection information defined and may not be usable in other systems.\n",
      "  write(\n",
      "c:\\Users\\pedro\\miniforge3\\envs\\coastsat\\Lib\\site-packages\\pyogrio\\geopandas.py:662: UserWarning: 'crs' was not provided.  The output dataset will not have projection information defined and may not be usable in other systems.\n",
      "  write(\n",
      "c:\\Users\\pedro\\miniforge3\\envs\\coastsat\\Lib\\site-packages\\pyogrio\\geopandas.py:662: UserWarning: 'crs' was not provided.  The output dataset will not have projection information defined and may not be usable in other systems.\n",
      "  write(\n"
     ]
    }
   ],
   "source": [
    "save_beach_as_geojson(polygon_excel_file)"
   ]
  },
  {
   "cell_type": "markdown",
   "metadata": {},
   "source": [
    "## Extracción de Transectos"
   ]
  },
  {
   "cell_type": "markdown",
   "metadata": {},
   "source": [
    "Luego, se transforma la información del excel en archivos individuales `.geojson` por playa que contienen los transectos de cada playa, que se almacenarán en la misma carpeta de la región en subcarpetas por playa"
   ]
  },
  {
   "cell_type": "code",
   "execution_count": 14,
   "metadata": {},
   "outputs": [],
   "source": [
    "def save_transects_by_siteid(region_excel_file, region_folder):\n",
    "    \"\"\"\n",
    "    Agrupa las filas del Excel por SiteId y guarda cada grupo como un archivo .geojson individual\n",
    "    en subcarpetas correspondientes dentro de la carpeta de la región.\n",
    "\n",
    "    :param region_excel_file: Ruta del archivo Excel que contiene los datos de transectos.\n",
    "    :param region_folder: Carpeta base de salida para los archivos GeoJSON agrupados por SiteId.\n",
    "    \"\"\"\n",
    "    # Crear la carpeta de la región si no existe\n",
    "    os.makedirs(region_folder, exist_ok=True)\n",
    "\n",
    "    # Cargar el archivo Excel\n",
    "    data = pd.read_excel(region_excel_file)\n",
    "\n",
    "    # Convertir el DataFrame a un GeoDataFrame\n",
    "    gdf = gpd.GeoDataFrame(data, geometry=gpd.GeoSeries.from_wkt(data['geometry']))\n",
    "\n",
    "    # Obtener los valores únicos de SiteId\n",
    "    unique_siteids = gdf['SiteId'].unique()\n",
    "\n",
    "    # Procesar cada SiteId\n",
    "    for site_id in unique_siteids:\n",
    "        # Filtrar las filas correspondientes al SiteId actual\n",
    "        site_gdf = gdf[gdf['SiteId'] == site_id]\n",
    "\n",
    "        # Crear la carpeta para el SiteId si no existe\n",
    "        site_folder = os.path.join(region_folder, site_id)\n",
    "        os.makedirs(site_folder, exist_ok=True)\n",
    "\n",
    "        # Ruta completa del archivo .geojson\n",
    "        output_file = os.path.join(site_folder, f\"{site_id}_transects.geojson\")\n",
    "\n",
    "        # Guardar el GeoDataFrame filtrado en un archivo .geojson\n",
    "        site_gdf.to_file(output_file, driver=\"GeoJSON\")\n",
    "        print(f\"Archivo .geojson guardado para {site_id}: {output_file}\")\n",
    "\n",
    "    print(f\"Archivos .geojson han sido guardados en subcarpetas dentro de: {region_folder}\")\n"
   ]
  },
  {
   "cell_type": "code",
   "execution_count": 15,
   "metadata": {},
   "outputs": [
    {
     "name": "stdout",
     "output_type": "stream",
     "text": [
      "Archivo .geojson guardado para chi0345: c:\\Users\\pedro\\Documents\\RAFA\\CoastSat-RRG\\CoastSat_Web\\OHIGGINS\\chi0345\\chi0345_transects.geojson\n",
      "Archivo .geojson guardado para chi0346: c:\\Users\\pedro\\Documents\\RAFA\\CoastSat-RRG\\CoastSat_Web\\OHIGGINS\\chi0346\\chi0346_transects.geojson\n",
      "Archivo .geojson guardado para chi0347: c:\\Users\\pedro\\Documents\\RAFA\\CoastSat-RRG\\CoastSat_Web\\OHIGGINS\\chi0347\\chi0347_transects.geojson\n",
      "Archivo .geojson guardado para chi0348: c:\\Users\\pedro\\Documents\\RAFA\\CoastSat-RRG\\CoastSat_Web\\OHIGGINS\\chi0348\\chi0348_transects.geojson\n",
      "Archivo .geojson guardado para chi0349: c:\\Users\\pedro\\Documents\\RAFA\\CoastSat-RRG\\CoastSat_Web\\OHIGGINS\\chi0349\\chi0349_transects.geojson\n",
      "Archivo .geojson guardado para chi0350: c:\\Users\\pedro\\Documents\\RAFA\\CoastSat-RRG\\CoastSat_Web\\OHIGGINS\\chi0350\\chi0350_transects.geojson\n",
      "Archivo .geojson guardado para chi0351: c:\\Users\\pedro\\Documents\\RAFA\\CoastSat-RRG\\CoastSat_Web\\OHIGGINS\\chi0351\\chi0351_transects.geojson\n",
      "Archivo .geojson guardado para chi0352: c:\\Users\\pedro\\Documents\\RAFA\\CoastSat-RRG\\CoastSat_Web\\OHIGGINS\\chi0352\\chi0352_transects.geojson\n",
      "Archivo .geojson guardado para chi0353: c:\\Users\\pedro\\Documents\\RAFA\\CoastSat-RRG\\CoastSat_Web\\OHIGGINS\\chi0353\\chi0353_transects.geojson\n",
      "Archivo .geojson guardado para chi0354: c:\\Users\\pedro\\Documents\\RAFA\\CoastSat-RRG\\CoastSat_Web\\OHIGGINS\\chi0354\\chi0354_transects.geojson\n",
      "Archivo .geojson guardado para chi0355: c:\\Users\\pedro\\Documents\\RAFA\\CoastSat-RRG\\CoastSat_Web\\OHIGGINS\\chi0355\\chi0355_transects.geojson\n",
      "Archivo .geojson guardado para chi0356: c:\\Users\\pedro\\Documents\\RAFA\\CoastSat-RRG\\CoastSat_Web\\OHIGGINS\\chi0356\\chi0356_transects.geojson\n",
      "Archivo .geojson guardado para chi0357: c:\\Users\\pedro\\Documents\\RAFA\\CoastSat-RRG\\CoastSat_Web\\OHIGGINS\\chi0357\\chi0357_transects.geojson\n",
      "Archivo .geojson guardado para chi0358: c:\\Users\\pedro\\Documents\\RAFA\\CoastSat-RRG\\CoastSat_Web\\OHIGGINS\\chi0358\\chi0358_transects.geojson\n",
      "Archivo .geojson guardado para chi0359: c:\\Users\\pedro\\Documents\\RAFA\\CoastSat-RRG\\CoastSat_Web\\OHIGGINS\\chi0359\\chi0359_transects.geojson\n",
      "Archivo .geojson guardado para chi0360: c:\\Users\\pedro\\Documents\\RAFA\\CoastSat-RRG\\CoastSat_Web\\OHIGGINS\\chi0360\\chi0360_transects.geojson\n",
      "Archivo .geojson guardado para chi0361: c:\\Users\\pedro\\Documents\\RAFA\\CoastSat-RRG\\CoastSat_Web\\OHIGGINS\\chi0361\\chi0361_transects.geojson\n",
      "Archivo .geojson guardado para chi0362: c:\\Users\\pedro\\Documents\\RAFA\\CoastSat-RRG\\CoastSat_Web\\OHIGGINS\\chi0362\\chi0362_transects.geojson\n",
      "Archivos .geojson han sido guardados en subcarpetas dentro de: c:\\Users\\pedro\\Documents\\RAFA\\CoastSat-RRG\\CoastSat_Web\\OHIGGINS\n"
     ]
    },
    {
     "name": "stderr",
     "output_type": "stream",
     "text": [
      "c:\\Users\\pedro\\miniforge3\\envs\\coastsat\\Lib\\site-packages\\pyogrio\\geopandas.py:662: UserWarning: 'crs' was not provided.  The output dataset will not have projection information defined and may not be usable in other systems.\n",
      "  write(\n",
      "c:\\Users\\pedro\\miniforge3\\envs\\coastsat\\Lib\\site-packages\\pyogrio\\geopandas.py:662: UserWarning: 'crs' was not provided.  The output dataset will not have projection information defined and may not be usable in other systems.\n",
      "  write(\n",
      "c:\\Users\\pedro\\miniforge3\\envs\\coastsat\\Lib\\site-packages\\pyogrio\\geopandas.py:662: UserWarning: 'crs' was not provided.  The output dataset will not have projection information defined and may not be usable in other systems.\n",
      "  write(\n",
      "c:\\Users\\pedro\\miniforge3\\envs\\coastsat\\Lib\\site-packages\\pyogrio\\geopandas.py:662: UserWarning: 'crs' was not provided.  The output dataset will not have projection information defined and may not be usable in other systems.\n",
      "  write(\n",
      "c:\\Users\\pedro\\miniforge3\\envs\\coastsat\\Lib\\site-packages\\pyogrio\\geopandas.py:662: UserWarning: 'crs' was not provided.  The output dataset will not have projection information defined and may not be usable in other systems.\n",
      "  write(\n",
      "c:\\Users\\pedro\\miniforge3\\envs\\coastsat\\Lib\\site-packages\\pyogrio\\geopandas.py:662: UserWarning: 'crs' was not provided.  The output dataset will not have projection information defined and may not be usable in other systems.\n",
      "  write(\n",
      "c:\\Users\\pedro\\miniforge3\\envs\\coastsat\\Lib\\site-packages\\pyogrio\\geopandas.py:662: UserWarning: 'crs' was not provided.  The output dataset will not have projection information defined and may not be usable in other systems.\n",
      "  write(\n",
      "c:\\Users\\pedro\\miniforge3\\envs\\coastsat\\Lib\\site-packages\\pyogrio\\geopandas.py:662: UserWarning: 'crs' was not provided.  The output dataset will not have projection information defined and may not be usable in other systems.\n",
      "  write(\n",
      "c:\\Users\\pedro\\miniforge3\\envs\\coastsat\\Lib\\site-packages\\pyogrio\\geopandas.py:662: UserWarning: 'crs' was not provided.  The output dataset will not have projection information defined and may not be usable in other systems.\n",
      "  write(\n",
      "c:\\Users\\pedro\\miniforge3\\envs\\coastsat\\Lib\\site-packages\\pyogrio\\geopandas.py:662: UserWarning: 'crs' was not provided.  The output dataset will not have projection information defined and may not be usable in other systems.\n",
      "  write(\n",
      "c:\\Users\\pedro\\miniforge3\\envs\\coastsat\\Lib\\site-packages\\pyogrio\\geopandas.py:662: UserWarning: 'crs' was not provided.  The output dataset will not have projection information defined and may not be usable in other systems.\n",
      "  write(\n",
      "c:\\Users\\pedro\\miniforge3\\envs\\coastsat\\Lib\\site-packages\\pyogrio\\geopandas.py:662: UserWarning: 'crs' was not provided.  The output dataset will not have projection information defined and may not be usable in other systems.\n",
      "  write(\n",
      "c:\\Users\\pedro\\miniforge3\\envs\\coastsat\\Lib\\site-packages\\pyogrio\\geopandas.py:662: UserWarning: 'crs' was not provided.  The output dataset will not have projection information defined and may not be usable in other systems.\n",
      "  write(\n",
      "c:\\Users\\pedro\\miniforge3\\envs\\coastsat\\Lib\\site-packages\\pyogrio\\geopandas.py:662: UserWarning: 'crs' was not provided.  The output dataset will not have projection information defined and may not be usable in other systems.\n",
      "  write(\n",
      "c:\\Users\\pedro\\miniforge3\\envs\\coastsat\\Lib\\site-packages\\pyogrio\\geopandas.py:662: UserWarning: 'crs' was not provided.  The output dataset will not have projection information defined and may not be usable in other systems.\n",
      "  write(\n",
      "c:\\Users\\pedro\\miniforge3\\envs\\coastsat\\Lib\\site-packages\\pyogrio\\geopandas.py:662: UserWarning: 'crs' was not provided.  The output dataset will not have projection information defined and may not be usable in other systems.\n",
      "  write(\n",
      "c:\\Users\\pedro\\miniforge3\\envs\\coastsat\\Lib\\site-packages\\pyogrio\\geopandas.py:662: UserWarning: 'crs' was not provided.  The output dataset will not have projection information defined and may not be usable in other systems.\n",
      "  write(\n",
      "c:\\Users\\pedro\\miniforge3\\envs\\coastsat\\Lib\\site-packages\\pyogrio\\geopandas.py:662: UserWarning: 'crs' was not provided.  The output dataset will not have projection information defined and may not be usable in other systems.\n",
      "  write(\n"
     ]
    }
   ],
   "source": [
    "save_transects_by_siteid(transects_excel_file, region_folder)"
   ]
  },
  {
   "cell_type": "code",
   "execution_count": 16,
   "metadata": {},
   "outputs": [
    {
     "name": "stdout",
     "output_type": "stream",
     "text": [
      "Archivo convertido y guardado en: c:\\Users\\pedro\\Documents\\RAFA\\CoastSat-RRG\\CoastSat_Web\\OHIGGINS\\chi0356\\chi0356_polygon.xlsx\n",
      "Archivo convertido y guardado en: c:\\Users\\pedro\\Documents\\RAFA\\CoastSat-RRG\\CoastSat_Web\\OHIGGINS\\chi0356\\chi0356_transects.xlsx\n",
      "Todos los archivos .geojson han sido procesados.\n"
     ]
    },
    {
     "name": "stderr",
     "output_type": "stream",
     "text": [
      "C:\\Users\\pedro\\AppData\\Local\\Temp\\ipykernel_14472\\4100923213.py:18: UserWarning: Geometry column does not contain geometry.\n",
      "  data['geometry'] = data['geometry'].apply(lambda x: x.wkt)\n",
      "C:\\Users\\pedro\\AppData\\Local\\Temp\\ipykernel_14472\\4100923213.py:18: UserWarning: Geometry column does not contain geometry.\n",
      "  data['geometry'] = data['geometry'].apply(lambda x: x.wkt)\n"
     ]
    }
   ],
   "source": [
    "carpeta = os.path.join(os.getcwd(), region_folder, 'chi0356')\n",
    "convert_geojson_to_excel(carpeta)"
   ]
  }
 ],
 "metadata": {
  "kernelspec": {
   "display_name": "coastsat",
   "language": "python",
   "name": "python3"
  },
  "language_info": {
   "codemirror_mode": {
    "name": "ipython",
    "version": 3
   },
   "file_extension": ".py",
   "mimetype": "text/x-python",
   "name": "python",
   "nbconvert_exporter": "python",
   "pygments_lexer": "ipython3",
   "version": "3.11.11"
  }
 },
 "nbformat": 4,
 "nbformat_minor": 2
}
