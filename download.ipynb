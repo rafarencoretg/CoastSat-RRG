{
 "cells": [
  {
   "cell_type": "markdown",
   "metadata": {},
   "source": [
    "# *CoastSat*: Multi-beach download"
   ]
  },
  {
   "cell_type": "markdown",
   "metadata": {
    "jp-MarkdownHeadingCollapsed": true
   },
   "source": [
    "## Initial settings\n",
    "\n",
    "Refer to the **Installation** section of the README for instructions on how to install the Python packages necessary to run the software, including Google Earth Engine Python API. If that step has been completed correctly, the following packages should be imported without any problem."
   ]
  },
  {
   "cell_type": "code",
   "execution_count": 1,
   "metadata": {
    "tags": []
   },
   "outputs": [],
   "source": [
    "%load_ext autoreload\n",
    "%autoreload 2\n",
    "import os\n",
    "import numpy as np\n",
    "import pickle\n",
    "import warnings\n",
    "warnings.filterwarnings(\"ignore\")\n",
    "import matplotlib\n",
    "matplotlib.use('Qt5Agg')\n",
    "import matplotlib.pyplot as plt\n",
    "from matplotlib import gridspec\n",
    "plt.ion()\n",
    "import pandas as pd\n",
    "from datetime import datetime\n",
    "import pytz\n",
    "from coastsat import SDS_download, SDS_preprocess, SDS_shoreline, SDS_tools, SDS_transects\n"
   ]
  },
  {
   "cell_type": "markdown",
   "metadata": {
    "jp-MarkdownHeadingCollapsed": true
   },
   "source": [
    "## Retrieval of the images from GEE\n",
    "\n",
    "Define the region of interest (`polygon`), the date range (`dates`) and the satellite missions (`sat_list`) from which you wish to retrieve the satellite images. The images will be cropped on the Google Earth Engine server and only the region of interest will be downloaded as a .tif file. The files will stored in the directory defined in `filepath`. \n",
    "\n",
    "To create you ROI polygon you can either:\n",
    "- enter the coordinates manually as in the example below (making sure the first and last coordinate are the same);\n",
    "- go to [geojson.io](https://geojson.io), draw a polygon for your area of interest and export it as a GeoJSON and then read it with the function `SDS_tools.polygon_from_geojson()`.\n",
    "- go to Google MyMaps, draw a polygon and export it as kml and then read it with the function `SDS_tools.polygon_from_kml()`.\n",
    "\n",
    "Make sure the area of your ROI is smaller than 100 km2 (if larger split it into smaller ROIs).\n",
    "\n",
    "The function `SDS_download.check_images_available(inputs)` will print the number of images available for your inputs. The Landsat images are divided in Tier 1 and Tier 2, only Tier 1 images can be used for time-series analysis.\n",
    "\n",
    "For Landsat, users can also choose between Collection 1 and Collection 2 with the `collection` variable. Note that from 1st Jan 2022 newly acquired Landsat images are only available in Collection 2, with Landsat 9 only available in Collection 2, so it's preferred that you use Collection 2.\n",
    "\n",
    "There is also the option to specify which Sentinel-2 or Landsat tile to download the images from. This can be specified by using `inputs['S2tile'] = '56HLH'` (Sentinel-2 MGRS grid) or `inputs['LandsatWRS'] = '089083'` (Landsat WRS-2 grid). These values correspond to the tiles covering Sydney. You can view Sentinel-2 tiles [here](https://eatlas.org.au/data/uuid/f7468d15-12be-4e3f-a246-b2882a324f59) and Landsat tiles [here](https://www.usgs.gov/media/files/landsat-wrs-2-scene-boundaries-kml-file). Specifying the tile helps to remove duplicates from overlapping tiles, especially in Sentinel-2 where the overlap is significant."
   ]
  },
  {
   "cell_type": "code",
   "execution_count": 2,
   "metadata": {
    "tags": []
   },
   "outputs": [
    {
     "name": "stdout",
     "output_type": "stream",
     "text": [
      "Number of images available between 1985-01-01 and 2024-12-31:\n",
      "- In Landsat Tier 1 & Sentinel-2 Level-1C:\n",
      "     L5: 410 images\n",
      "     L7: 863 images\n",
      "     L8: 463 images\n",
      "     L9: 121 images\n",
      "     S2: 1950 images\n",
      "  Total to download: 3807 images\n",
      "L5: 410/410 images already exist, 0 to be downloaded\n",
      "L7: 816/863 images already exist, 47 to be downloaded\n",
      "L8: 463/463 images already exist, 0 to be downloaded\n",
      "L9: 121/121 images already exist, 0 to be downloaded\n",
      "S2: 1613/1950 images already exist, 334 to be downloaded\n",
      "- In Landsat Tier 2 (not suitable for time-series analysis):\n",
      "     L5: 112 images\n",
      "     L7: 72 images\n",
      "     L8: 78 images\n",
      "  Total Tier 2: 262 images\n"
     ]
    }
   ],
   "source": [
    "# region of interest (longitude, latitude)\n",
    "geojson_polygon = os.path.join(os.getcwd(), 'GIS', 'playa_punta_de_lobos.geojson')\n",
    "polygon = SDS_tools.polygon_from_geojson(geojson_polygon)\n",
    "\n",
    "# or load from .kml\n",
    "# kml_polygon = os.path.join(os.getcwd(), 'GIS', 'playa_punta_de_lobos.geojson')\n",
    "# polygon = SDS_tools.polygon_from_kml(kml_polygon)\n",
    "# date range\n",
    "dates = ['1985-01-01', '2024-12-31']\n",
    "# satellite missions ['L5','L7','L8','L9','S2']\n",
    "sat_list = ['L5', 'L7', 'L8','L9','S2']\n",
    "# name of the site\n",
    "sitename = 'PLAYA_PUNTA_DE_LOBOS'\n",
    "# directory where the data will be stored\n",
    "filepath = os.path.join(os.getcwd(), 'data')\n",
    "# put all the inputs into a dictionnary\n",
    "inputs = {'polygon': polygon, 'dates': dates, 'sat_list': sat_list,\n",
    "          'sitename': sitename, 'filepath':filepath}\n",
    "# optionally, you can select your Sentinel-2 or Landsat tile to avoid duplicates from multiple tiles\n",
    "# inputs['S2tile'] = '56HLH'\n",
    "# inputs['LandsatWRS'] = '089083'\n",
    "# before downloading the images, check how many images are available for your inputs\n",
    "SDS_download.check_images_available(inputs);"
   ]
  },
  {
   "cell_type": "markdown",
   "metadata": {},
   "source": [
    "The function `SDS_download.retrieve_images(inputs)` retrives the satellite images from Google Earth Engine.\n",
    "\n",
    "By default, only Landsat Tier 1 Top-of-Atmosphere and Sentinel-2 Level-1C products are downloaded. \n",
    "\n",
    "You can decide to skip the Landsat 7 images affected by the May 2003 Scan-Line-Corrector issue by settings `inputs['skip_L7_SLC'] = True`, although this is not recommended as L7 images can still be processed with the gaps.\n",
    "\n",
    "In case you need to access Tier 2 images for qualitative analysis, you need to set `inputs['include_T2'] = True` before calling `retrieve_images()`."
   ]
  },
  {
   "cell_type": "code",
   "execution_count": 3,
   "metadata": {},
   "outputs": [],
   "source": [
    "# option to skip L7 images affected by the Scan-Line-Correction error after 31st May 2003\n",
    "# inputs['skip_L7_SLC'] = True\n",
    "# option to include Tier 2 images (ONLY IF NO OTHER IMAGES ARE AVAILABLE)\n",
    "# inputs['include_T2'] = True"
   ]
  },
  {
   "cell_type": "code",
   "execution_count": 4,
   "metadata": {
    "tags": []
   },
   "outputs": [
    {
     "name": "stdout",
     "output_type": "stream",
     "text": [
      "GEE initialized (existing token).\n",
      "Number of images available between 1985-01-01 and 2024-12-31:\n",
      "- In Landsat Tier 1 & Sentinel-2 Level-1C:\n",
      "     L5: 410 images\n",
      "     L7: 863 images\n",
      "     L8: 463 images\n",
      "     L9: 121 images\n",
      "     S2: 1950 images\n",
      "  Total to download: 3807 images\n",
      "L5: 410/410 images already exist, 0 to be downloaded\n",
      "L7: 816/863 images already exist, 47 to be downloaded\n",
      "L8: 463/463 images already exist, 0 to be downloaded\n",
      "L9: 121/121 images already exist, 0 to be downloaded\n",
      "S2: 1613/1950 images already exist, 334 to be downloaded\n",
      "- In Landsat Tier 2 (not suitable for time-series analysis):\n",
      "     L5: 112 images\n",
      "     L7: 72 images\n",
      "     L8: 78 images\n",
      "  Total Tier 2: 262 images\n",
      "\n",
      "Downloading images:\n",
      "L5: 0 images\n",
      "\n",
      "L7: 47 images\n",
      "\n",
      "L8: 0 images\n",
      "\n",
      "L9: 0 images\n",
      "\n",
      "S2: 334 images\n",
      "100%\n",
      "Satellite images downloaded from GEE and save in c:\\Users\\pedro\\Documents\\RAFA\\CoastSat-RRG\\data\\PLAYA_PUNTA_DE_LOBOS\n"
     ]
    }
   ],
   "source": [
    "metadata = SDS_download.retrieve_images(inputs)"
   ]
  },
  {
   "cell_type": "markdown",
   "metadata": {},
   "source": [
    "**If you have already retrieved the images**, just load the metadata file by only running the section below"
   ]
  },
  {
   "cell_type": "code",
   "execution_count": 38,
   "metadata": {
    "tags": []
   },
   "outputs": [],
   "source": [
    "metadata = SDS_download.get_metadata(inputs)"
   ]
  }
 ],
 "metadata": {
  "kernelspec": {
   "display_name": "coastsat",
   "language": "python",
   "name": "python3"
  },
  "language_info": {
   "codemirror_mode": {
    "name": "ipython",
    "version": 3
   },
   "file_extension": ".py",
   "mimetype": "text/x-python",
   "name": "python",
   "nbconvert_exporter": "python",
   "pygments_lexer": "ipython3",
   "version": "3.11.11"
  },
  "toc": {
   "base_numbering": 1,
   "nav_menu": {},
   "number_sections": true,
   "sideBar": true,
   "skip_h1_title": false,
   "title_cell": "Table of Contents",
   "title_sidebar": "Contents",
   "toc_cell": false,
   "toc_position": {},
   "toc_section_display": true,
   "toc_window_display": false
  },
  "varInspector": {
   "cols": {
    "lenName": 16,
    "lenType": 16,
    "lenVar": 40
   },
   "kernels_config": {
    "python": {
     "delete_cmd_postfix": "",
     "delete_cmd_prefix": "del ",
     "library": "var_list.py",
     "varRefreshCmd": "print(var_dic_list())"
    },
    "r": {
     "delete_cmd_postfix": ") ",
     "delete_cmd_prefix": "rm(",
     "library": "var_list.r",
     "varRefreshCmd": "cat(var_dic_list()) "
    }
   },
   "types_to_exclude": [
    "module",
    "function",
    "builtin_function_or_method",
    "instance",
    "_Feature"
   ],
   "window_display": false
  }
 },
 "nbformat": 4,
 "nbformat_minor": 4
}
